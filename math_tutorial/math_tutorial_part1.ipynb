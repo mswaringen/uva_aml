{
 "cells": [
  {
   "cell_type": "markdown",
   "metadata": {},
   "source": [
    "## Math Tutorial Part 1"
   ]
  },
  {
   "cell_type": "code",
   "execution_count": 1,
   "metadata": {},
   "outputs": [],
   "source": [
    "import numpy as np\n",
    "import sympy as sym"
   ]
  },
  {
   "cell_type": "markdown",
   "metadata": {},
   "source": [
    "### 1) Stats"
   ]
  },
  {
   "cell_type": "code",
   "execution_count": 2,
   "metadata": {},
   "outputs": [
    {
     "name": "stdout",
     "output_type": "stream",
     "text": [
      "1.1428571428571428 1.5510204081632655 1.2453996981544782\n"
     ]
    }
   ],
   "source": [
    "# 1\n",
    "x = [2,1,3,2,-1,0,1]\n",
    "\n",
    "mean = np.mean(x)\n",
    "var = np.var(x)\n",
    "std = np.std(x)\n",
    "\n",
    "print(mean, var, std)"
   ]
  },
  {
   "cell_type": "markdown",
   "metadata": {},
   "source": [
    "2)\n",
    "\n",
    "Bayes Theorem\n",
    "P(H|D) = P(D|H) * P(H) / P(D)\n",
    "\n",
    "H = prob that the cab was Blue\n",
    "D = Witness correctly identified the cab was Blue\n",
    "\n",
    "P(H) = 0.15\n",
    "P(D|H) = 0.8\n",
    "\n",
    "P(D) = P(D|H) * P(H) + P(D|H_bar) * P(H_bar)\n",
    "     = 0.8 * 0.2 + 0.2 * 0.85\n",
    "     = 0.29\n",
    "     \n",
    "P(H|D) = 0.8 * 0.2 / 0.29\n",
    "       = 0.41\n",
    "       \n",
    "What is the probability that the cab involved in the accident was Blue rather than\n",
    "Green?\n",
    "\n",
    "Answer: 41%\n"
   ]
  },
  {
   "cell_type": "markdown",
   "metadata": {},
   "source": [
    "3)\n",
    "\n",
    "Assuming that the xi's are independent\n",
    "Bernoulli random variables with unknown parameter p, and the maximum\n",
    "likelihood estimator of p: the proportion of students who own a sports car.\n",
    "\n",
    "proportion of students who own a sports car = p = (sum x_i) / n"
   ]
  },
  {
   "cell_type": "markdown",
   "metadata": {},
   "source": [
    "### 2) Regression"
   ]
  },
  {
   "cell_type": "code",
   "execution_count": 3,
   "metadata": {},
   "outputs": [],
   "source": [
    "x_1 = np.asarray([2, 1, 3, 2, 1, 3])\n",
    "x_2 = np.asarray([3, 2, -4, 1, 3, 2])\n",
    "x_3 = np.asarray([-2, 4, 2, 1, 2, 3])\n",
    "\n",
    "w = np.asarray([3, 1, 2,-1, 4, 3])\n",
    "\n",
    "y_1 = 28\n",
    "y_2 = 24\n",
    "y_3 = 23"
   ]
  },
  {
   "cell_type": "code",
   "execution_count": 4,
   "metadata": {},
   "outputs": [
    {
     "name": "stdout",
     "output_type": "stream",
     "text": [
      "24\n",
      "20\n",
      "18\n"
     ]
    }
   ],
   "source": [
    "print(np.dot(x_1,w))\n",
    "print(np.dot(x_2,w))\n",
    "print(np.dot(x_3,w))"
   ]
  },
  {
   "cell_type": "code",
   "execution_count": 5,
   "metadata": {},
   "outputs": [
    {
     "data": {
      "text/plain": [
       "26"
      ]
     },
     "execution_count": 5,
     "metadata": {},
     "output_type": "execute_result"
    }
   ],
   "source": [
    "bias = 2\n",
    "w = np.append(w,bias)\n",
    "x_1 = np.append(x_1,1)\n",
    "np.dot(w,x_1)"
   ]
  },
  {
   "cell_type": "code",
   "execution_count": 6,
   "metadata": {},
   "outputs": [
    {
     "name": "stdout",
     "output_type": "stream",
     "text": [
      "16\n",
      "16\n",
      "25\n",
      "57\n"
     ]
    }
   ],
   "source": [
    "x_1 = np.asarray([2, 1, 3, 2, 1, 3])\n",
    "x_2 = np.asarray([3, 2, -4, 1, 3, 2])\n",
    "x_3 = np.asarray([-2, 4, 2, 1, 2, 3])\n",
    "\n",
    "w = np.asarray([3, 1, 2,-1, 4, 3])\n",
    "\n",
    "y_1 = 28\n",
    "y_2 = 24\n",
    "y_3 = 23\n",
    "\n",
    "l_1 = (y_1 - np.dot(x_1,w))**2\n",
    "l_2 = (y_2 - np.dot(x_2,w))**2\n",
    "l_3 = (y_3 - np.dot(x_3,w))**2\n",
    "print(l_1)\n",
    "print(l_2)\n",
    "print(l_3)\n",
    "print(l_1+l_2+l_3)"
   ]
  },
  {
   "cell_type": "markdown",
   "metadata": {},
   "source": [
    "2.4a\n",
    "\n",
    "L = sum_n ((yn-f(x,w))^2)\n",
    "\n",
    "f(x,w) = vp(x,w) + b\n",
    "\n",
    "derivative w.r.t. w = dL / dw\n",
    "\n",
    "                    = sum_n d/dw (yn-f(xn,w))^2\n",
    "                    \n",
    "                    = sum_n 2 * (yn-f(xn,w)) * -xn\n",
    "                    \n",
    "                    = sum_n 2 * (yn-vp(w,xn) + b) * -xn\n",
    "\n",
    "2.4b\n",
    "dL / dx = sum_n 2 * (yn-f(xn,w)) * -w"
   ]
  },
  {
   "cell_type": "code",
   "execution_count": 7,
   "metadata": {
    "scrolled": true
   },
   "outputs": [
    {
     "name": "stdout",
     "output_type": "stream",
     "text": [
      "-96\n",
      "-56\n",
      "-100\n"
     ]
    }
   ],
   "source": [
    "# 2.4c\n",
    "\n",
    "dL_1 = np.sum(2 * (y_1 - np.dot(w,x_1)) * -x_1)\n",
    "dL_2 = np.sum(2 * (y_2 - np.dot(w,x_2)) * -x_2)\n",
    "dL_3 = np.sum(2 * (y_3 - np.dot(w,x_3)) * -x_3)\n",
    "print(dL_1)\n",
    "print(dL_2)\n",
    "print(dL_3)"
   ]
  },
  {
   "cell_type": "markdown",
   "metadata": {},
   "source": [
    "2.5a\n",
    "\n",
    "R(w) = 1/2 * vp(w,w)\n",
    "\n",
    "d(p,q) = sum_i (q_i - p_i)^2\n",
    "\n",
    "d(w,0) = sum_i (w_i - 0)^2 = w_i^2 = vp(w,w) = R(w)"
   ]
  },
  {
   "cell_type": "code",
   "execution_count": 8,
   "metadata": {},
   "outputs": [
    {
     "name": "stdout",
     "output_type": "stream",
     "text": [
      "20.0\n"
     ]
    }
   ],
   "source": [
    "R_w = np.dot(w,w)*0.5\n",
    "print(R_w)"
   ]
  },
  {
   "cell_type": "markdown",
   "metadata": {},
   "source": [
    "2.5c\n",
    "\n",
    "dR(w)/dw = w\n",
    "\n",
    "vp(w,w) is essential w * w or W^2 "
   ]
  },
  {
   "cell_type": "markdown",
   "metadata": {},
   "source": [
    "2.6a\n",
    "\n",
    "When lambda minimized, set R to 0 "
   ]
  },
  {
   "cell_type": "markdown",
   "metadata": {},
   "source": [
    "2.6b\n",
    "\n",
    "d/dw (L + lambda * R)\n",
    "\n",
    "= deriv(L) + lambda * deriv(R)\n",
    "= (sum_n 2 * (yn-vp(w,xn) + b) * -xn) + lambda * w"
   ]
  },
  {
   "cell_type": "markdown",
   "metadata": {},
   "source": [
    "2.6c\n",
    "\n",
    "Parameters: w,b\n",
    "Hyperparameters: lambda, eta\n",
    "\n",
    "Rationale: model optimizes w,b against the loss function\n",
    "HPs allow for manual tuning based on trade offs"
   ]
  },
  {
   "cell_type": "code",
   "execution_count": 9,
   "metadata": {},
   "outputs": [
    {
     "data": {
      "text/plain": [
       "77"
      ]
     },
     "execution_count": 9,
     "metadata": {},
     "output_type": "execute_result"
    }
   ],
   "source": [
    "# 2.6d\n",
    "\n",
    "# L + lambda * R\n",
    "57 + 1 * 20"
   ]
  },
  {
   "cell_type": "markdown",
   "metadata": {},
   "source": [
    "### Bonus: Calc w Sympy"
   ]
  },
  {
   "cell_type": "code",
   "execution_count": 10,
   "metadata": {},
   "outputs": [],
   "source": [
    "x = sym.Symbol('x')"
   ]
  },
  {
   "cell_type": "markdown",
   "metadata": {},
   "source": [
    "##### Power Rule"
   ]
  },
  {
   "cell_type": "code",
   "execution_count": 11,
   "metadata": {},
   "outputs": [
    {
     "data": {
      "text/latex": [
       "$\\displaystyle 5 x^{4}$"
      ],
      "text/plain": [
       "5*x**4"
      ]
     },
     "execution_count": 11,
     "metadata": {},
     "output_type": "execute_result"
    }
   ],
   "source": [
    "sym.diff(x**5)"
   ]
  },
  {
   "cell_type": "markdown",
   "metadata": {},
   "source": [
    "##### Product Rule"
   ]
  },
  {
   "cell_type": "code",
   "execution_count": 12,
   "metadata": {},
   "outputs": [
    {
     "data": {
      "text/latex": [
       "$\\displaystyle 6 x^{3}$"
      ],
      "text/plain": [
       "6*x**3"
      ]
     },
     "execution_count": 12,
     "metadata": {},
     "output_type": "execute_result"
    }
   ],
   "source": [
    "sym.diff(x**2+1) * sym.diff(x**3+4)"
   ]
  },
  {
   "cell_type": "markdown",
   "metadata": {},
   "source": [
    "##### Chain Rule"
   ]
  },
  {
   "cell_type": "code",
   "execution_count": 13,
   "metadata": {},
   "outputs": [
    {
     "data": {
      "text/latex": [
       "$\\displaystyle \\left(6 x - 9\\right) \\left(x^{2} - 3 x + 5\\right)^{2}$"
      ],
      "text/plain": [
       "(6*x - 9)*(x**2 - 3*x + 5)**2"
      ]
     },
     "execution_count": 13,
     "metadata": {},
     "output_type": "execute_result"
    }
   ],
   "source": [
    "sym.diff((x**2-3*x+5)**3)"
   ]
  },
  {
   "cell_type": "markdown",
   "metadata": {},
   "source": [
    "#### Partial Derivatives"
   ]
  },
  {
   "cell_type": "code",
   "execution_count": 14,
   "metadata": {},
   "outputs": [],
   "source": [
    "x,y = sym.symbols('x y')"
   ]
  },
  {
   "cell_type": "code",
   "execution_count": 15,
   "metadata": {},
   "outputs": [
    {
     "data": {
      "text/latex": [
       "$\\displaystyle 2 x y$"
      ],
      "text/plain": [
       "2*x*y"
      ]
     },
     "execution_count": 15,
     "metadata": {},
     "output_type": "execute_result"
    }
   ],
   "source": [
    "sym.diff(x**2*y,x)"
   ]
  },
  {
   "cell_type": "code",
   "execution_count": 16,
   "metadata": {},
   "outputs": [
    {
     "data": {
      "text/latex": [
       "$\\displaystyle x^{2}$"
      ],
      "text/plain": [
       "x**2"
      ]
     },
     "execution_count": 16,
     "metadata": {},
     "output_type": "execute_result"
    }
   ],
   "source": [
    "sym.diff(x**2*y,y)"
   ]
  },
  {
   "cell_type": "code",
   "execution_count": null,
   "metadata": {},
   "outputs": [],
   "source": []
  }
 ],
 "metadata": {
  "kernelspec": {
   "display_name": "Python 3",
   "language": "python",
   "name": "python3"
  },
  "language_info": {
   "codemirror_mode": {
    "name": "ipython",
    "version": 3
   },
   "file_extension": ".py",
   "mimetype": "text/x-python",
   "name": "python",
   "nbconvert_exporter": "python",
   "pygments_lexer": "ipython3",
   "version": "3.7.9"
  }
 },
 "nbformat": 4,
 "nbformat_minor": 4
}
